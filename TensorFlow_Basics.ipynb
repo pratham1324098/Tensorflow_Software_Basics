{
 "cells": [
  {
   "cell_type": "code",
   "execution_count": 1,
   "id": "cce4e626-5c3e-4f01-87ca-a0e6300501b3",
   "metadata": {},
   "outputs": [
    {
     "name": "stdout",
     "output_type": "stream",
     "text": [
      "Your tensorflow version: 2.16.1\n"
     ]
    }
   ],
   "source": [
    "import tensorflow as tf\n",
    "print(('Your tensorflow version: {0}').format(tf.__version__))"
   ]
  },
  {
   "cell_type": "code",
   "execution_count": 3,
   "id": "90799994-ec15-4159-bdfc-42c232ff2eaf",
   "metadata": {},
   "outputs": [
    {
     "data": {
      "text/plain": [
       "<tf.Tensor: shape=(2, 2), dtype=int32, numpy=\n",
       "array([[4, 3],\n",
       "       [6, 1]])>"
      ]
     },
     "execution_count": 3,
     "metadata": {},
     "output_type": "execute_result"
    }
   ],
   "source": [
    "#Create a constant tensor A\n",
    "A=tf.constant([[4,3],[6,1]])\n",
    "A"
   ]
  },
  {
   "cell_type": "code",
   "execution_count": 4,
   "id": "7a3071f3-aa27-49e8-9680-ea45bc7d39af",
   "metadata": {},
   "outputs": [
    {
     "name": "stdout",
     "output_type": "stream",
     "text": [
      "<tf.Variable 'Variable:0' shape=(2, 2) dtype=int32, numpy=\n",
      "array([[3, 1],\n",
      "       [5, 2]])>\n",
      "tf.Tensor(\n",
      "[[7 8]\n",
      " [3 2]], shape=(2, 2), dtype=int32)\n"
     ]
    }
   ],
   "source": [
    "V = tf.Variable([[3,1],[5,2]])\n",
    "B = tf.constant([[7,8],[3,2]])\n",
    "print(V)\n",
    "print(B)"
   ]
  },
  {
   "cell_type": "code",
   "execution_count": 7,
   "id": "bbf84a9b-db36-4df9-b7d6-bd22f35377a2",
   "metadata": {},
   "outputs": [
    {
     "name": "stdout",
     "output_type": "stream",
     "text": [
      "tf.Tensor(\n",
      "[[4 3]\n",
      " [6 1]\n",
      " [7 8]\n",
      " [3 2]], shape=(4, 2), dtype=int32)\n"
     ]
    }
   ],
   "source": [
    "AB_concatenated = tf.concat(values=[A,B],axis=0)\n",
    "print(AB_concatenated)"
   ]
  },
  {
   "cell_type": "code",
   "execution_count": 8,
   "id": "99e5661b-aa7d-46ed-8a5d-ed1e70833081",
   "metadata": {},
   "outputs": [
    {
     "name": "stdout",
     "output_type": "stream",
     "text": [
      "tf.Tensor(\n",
      "[[4 3 7 8]\n",
      " [6 1 3 2]], shape=(2, 4), dtype=int32)\n"
     ]
    }
   ],
   "source": [
    "AB_concatenated = tf.concat(values=[A,B],axis=1)\n",
    "print(AB_concatenated)"
   ]
  },
  {
   "cell_type": "code",
   "execution_count": 13,
   "id": "678d9cc9-65d0-422d-b1cb-bd7ceeee25bd",
   "metadata": {},
   "outputs": [
    {
     "name": "stdout",
     "output_type": "stream",
     "text": [
      "tf.Tensor(\n",
      "[[0.19115138 0.7188443  0.54416716 0.40930057]\n",
      " [0.64810216 0.9450133  0.56455624 0.08061957]\n",
      " [0.899873   0.2111044  0.47391605 0.26456332]], shape=(3, 4), dtype=float32)\n"
     ]
    }
   ],
   "source": [
    "tensor = tf.random.uniform(shape=[3,4],dtype=tf.float32)\n",
    "print(tensor)"
   ]
  },
  {
   "cell_type": "code",
   "execution_count": 11,
   "id": "e99e8bbc-2ecc-4e67-93eb-0dceb2cb14d3",
   "metadata": {},
   "outputs": [
    {
     "data": {
      "text/plain": [
       "<tf.Tensor: shape=(4, 3), dtype=float32, numpy=\n",
       "array([[0., 0., 0.],\n",
       "       [0., 0., 0.],\n",
       "       [0., 0., 0.],\n",
       "       [0., 0., 0.]], dtype=float32)>"
      ]
     },
     "execution_count": 11,
     "metadata": {},
     "output_type": "execute_result"
    }
   ],
   "source": [
    "reshaped_tensor = tf.reshape(tensor=tensor, shape = [4,3])\n",
    "reshaped_tensor"
   ]
  },
  {
   "cell_type": "code",
   "execution_count": 14,
   "id": "e5396b4f-2ddf-4418-8a50-7883bdbdaad6",
   "metadata": {},
   "outputs": [
    {
     "name": "stdout",
     "output_type": "stream",
     "text": [
      "tf.Tensor(\n",
      "[[4.6 3.5]\n",
      " [2.3 6.2]\n",
      " [2.6 7.4]], shape=(3, 2), dtype=float32)\n",
      "tf.Tensor(\n",
      "[[4 3]\n",
      " [2 6]\n",
      " [2 7]], shape=(3, 2), dtype=int32)\n"
     ]
    }
   ],
   "source": [
    "#Typecast a tensor\n",
    "tensor = tf.constant([[4.6,3.5],[2.3,6.2],[2.6,7.4]])\n",
    "tensor_as_int = tf.cast(tensor,tf.int32)\n",
    "print(tensor)\n",
    "print(tensor_as_int)"
   ]
  },
  {
   "cell_type": "code",
   "execution_count": 15,
   "id": "b9c91f78-9042-49aa-9cfc-67644e18c5e5",
   "metadata": {},
   "outputs": [
    {
     "data": {
      "text/plain": [
       "<tf.Tensor: shape=(2, 3), dtype=int32, numpy=\n",
       "array([[4, 2, 2],\n",
       "       [3, 6, 7]])>"
      ]
     },
     "execution_count": 15,
     "metadata": {},
     "output_type": "execute_result"
    }
   ],
   "source": [
    "a=tf.transpose(tensor_as_int)\n",
    "a"
   ]
  },
  {
   "cell_type": "code",
   "execution_count": 16,
   "id": "8909b834-d17a-4e4e-98f0-6543229df5dc",
   "metadata": {},
   "outputs": [
    {
     "data": {
      "text/plain": [
       "<tf.Tensor: shape=(2, 1), dtype=int32, numpy=\n",
       "array([[25],\n",
       "       [39]])>"
      ]
     },
     "execution_count": 16,
     "metadata": {},
     "output_type": "execute_result"
    }
   ],
   "source": [
    "A=tf.constant([[4,3,],[3,9]])\n",
    "v=tf.constant([[4],[3]])\n",
    "Av=tf.matmul(A,v)\n",
    "Av"
   ]
  },
  {
   "cell_type": "code",
   "execution_count": 17,
   "id": "e1edf39a-cebe-4f8e-af61-e3d150d12349",
   "metadata": {},
   "outputs": [
    {
     "data": {
      "text/plain": [
       "<tf.Tensor: shape=(2, 2), dtype=int32, numpy=\n",
       "array([[16, 12],\n",
       "       [ 9, 27]])>"
      ]
     },
     "execution_count": 17,
     "metadata": {},
     "output_type": "execute_result"
    }
   ],
   "source": [
    "Av=tf.multiply(A,v)\n",
    "Av"
   ]
  },
  {
   "cell_type": "code",
   "execution_count": 18,
   "id": "3d9529b7-9b71-4178-a8a2-512a23b9823e",
   "metadata": {},
   "outputs": [
    {
     "name": "stdout",
     "output_type": "stream",
     "text": [
      "rows: 3 columns: 2\n"
     ]
    },
    {
     "data": {
      "text/plain": [
       "<tf.Tensor: shape=(3, 2), dtype=int32, numpy=\n",
       "array([[1, 0],\n",
       "       [0, 1],\n",
       "       [0, 0]])>"
      ]
     },
     "execution_count": 18,
     "metadata": {},
     "output_type": "execute_result"
    }
   ],
   "source": [
    "A=tf.constant([[4,9],[5,6],[1,8]])\n",
    "rows,columns = A.shape\n",
    "print('rows:', rows, 'columns:', columns)\n",
    "rows, columns = A.shape\n",
    "A_identity = tf.eye(num_rows = rows,num_columns=columns,dtype = tf.int32)\n",
    "A_identity"
   ]
  },
  {
   "cell_type": "code",
   "execution_count": null,
   "id": "a45707aa-58da-49be-9dbd-f1c511576804",
   "metadata": {},
   "outputs": [],
   "source": []
  },
  {
   "cell_type": "code",
   "execution_count": null,
   "id": "a1afa9db-b9f2-4223-8d06-9797aed71b19",
   "metadata": {},
   "outputs": [],
   "source": []
  }
 ],
 "metadata": {
  "kernelspec": {
   "display_name": "Python 3 (ipykernel)",
   "language": "python",
   "name": "python3"
  },
  "language_info": {
   "codemirror_mode": {
    "name": "ipython",
    "version": 3
   },
   "file_extension": ".py",
   "mimetype": "text/x-python",
   "name": "python",
   "nbconvert_exporter": "python",
   "pygments_lexer": "ipython3",
   "version": "3.12.2"
  }
 },
 "nbformat": 4,
 "nbformat_minor": 5
}
